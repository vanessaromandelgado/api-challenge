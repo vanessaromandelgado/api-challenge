{
 "cells": [
  {
   "cell_type": "code",
   "execution_count": 135,
   "metadata": {},
   "outputs": [
    {
     "name": "stdout",
     "output_type": "stream",
     "text": [
      "dict_keys(['partners'])\n",
      "Ester Sheahan United States\n",
      "{'first name': 'Ester', 'last name': 'Sheahan', 'country': 'United States', 'email': 'mlacau@codingtemple.com'}\n"
     ]
    }
   ],
   "source": [
    "# saving function\n",
    "def each_partner_info(partner_info):\n",
    "    import requests as r\n",
    "req = r.get('https://ct-mock-tech-assessment.herokuapp.com/')\n",
    "if req.status_code == 200:\n",
    "    data = req.json()\n",
    "else:\n",
    "    print(req.status_code) # send back the error code if something went wrong\n",
    "\n",
    "# making an API call\n",
    "import requests as r\n",
    "req = r.get('https://ct-mock-tech-assessment.herokuapp.com/')\n",
    "if req.status_code == 200:\n",
    "    data = req.json()\n",
    "print(data.keys())\n",
    "\n",
    "# getting the data for one partners based on countries\n",
    "partner_firstName = data ['partners'][3]['firstName']\n",
    "partner_lastName = data ['partners'] [4] ['lastName']\n",
    "partner_country = data ['partners'][1]['country']\n",
    "email = data['partners'][2]['email']\n",
    "print(partner_firstName, partner_lastName, partner_country)\n",
    "\n",
    "#building a solution\n",
    "partner_info = {\n",
    "'first name' : partner_firstName,\n",
    "'last name' : partner_lastName,\n",
    "'country' : partner_country,\n",
    "'email': email\n",
    "}\n",
    "print(partner_info)\n",
    "\n",
    "\n",
    "#next step: while loop using pointer to loop through each partner while pointer is greater than range of length of each country\n",
    "# list comprehension of count of each country using api call"
   ]
  },
  {
   "cell_type": "markdown",
   "metadata": {},
   "source": [
    "Simply put, your main objective for this coding challenge is to send an API request to a server, get the data, then build a solution after getting the data."
   ]
  },
  {
   "cell_type": "markdown",
   "metadata": {},
   "source": [
    "Here's the server address: https://ct-mock-tech-assessment.herokuapp.com/<br>"
   ]
  },
  {
   "cell_type": "markdown",
   "metadata": {},
   "source": [
    "The data is a collection of partners who need to attend meetings within their respective countries. For each partner you will find first and last names, email addresses, country locations and dates of availability."
   ]
  },
  {
   "cell_type": "markdown",
   "metadata": {},
   "source": [
    "Your job is to  build an invitation list based on the data. An example solution would look like the following. Keep in mind this is an example and not the real solution."
   ]
  },
  {
   "cell_type": "markdown",
   "metadata": {},
   "source": [
    "<strong>THE FOLLOWING IS `ONLY` AN EXAMPLE.</strong>"
   ]
  },
  {
   "cell_type": "code",
   "execution_count": 1,
   "metadata": {},
   "outputs": [],
   "source": [
    "# [   {   'attendeeCount': 12,\n",
    "#         'attendees': [   'rketring@codingtemple.com',\n",
    "#                          'mlacau@codingtemple.com',\n",
    "#                          'eomersa@codingtemple.com',\n",
    "#                          'ssheahan@codingtemple.com',\n",
    "#                          'msoult@codingtemple.com',\n",
    "#                          'bwatton@codingtemple.com',\n",
    "#                          'afernadez@codingtemple.com',\n",
    "#                          'mmottern@codingtemple.com',\n",
    "#                          'pdougherty@codingtemple.com',\n",
    "#                          'sbeemon@codingtemple.com',\n",
    "#                          'mvirgel@codingtemple.com',\n",
    "#                          'hpolitte@codingtemple.com'],\n",
    "#         'name': 'United States',\n",
    "#         'startDate': '2017-06-01'},\n",
    "#     {   'attendeeCount': 12,\n",
    "#         'attendees': [   'sterrence@codingtemple.com',\n",
    "#                          'dpatnode@codingtemple.com',\n",
    "#                          'pbertog@codingtemple.com',\n",
    "#                          'rguldemond@codingtemple.com',\n",
    "#                          'rfarlee@codingtemple.com',\n",
    "#                          'mclawson@codingtemple.com',\n",
    "#                          'mbottenfield@codingtemple.com',\n",
    "#                          'akulju@codingtemple.com',\n",
    "#                          'cscoby@codingtemple.com',\n",
    "#                          'dsiebenthal@codingtemple.com',\n",
    "#                          'mcrossen@codingtemple.com',\n",
    "#                          'mkimble@codingtemple.com'],\n",
    "#         'name': 'Ireland',\n",
    "#         'startDate': '2017-06-04'},\n",
    "#     {   'attendeeCount': 14,\n",
    "#         'attendees': [   'oduttinger@codingtemple.com',\n",
    "#                          'tzavesky@codingtemple.com',\n",
    "#                          'alyme@codingtemple.com',\n",
    "#                          'aferkovich@codingtemple.com',\n",
    "#                          'cbrookhouse@codingtemple.com',\n",
    "#                          'mselk@codingtemple.com',\n",
    "#                          'amacneil@codingtemple.com',\n",
    "#                          'jplants@codingtemple.com',\n",
    "#                          'devora@codingtemple.com',\n",
    "#                          'bcustis@codingtemple.com',\n",
    "#                          'labbot@codingtemple.com',\n",
    "#                          'civery@codingtemple.com',\n",
    "#                          'jfavieri@codingtemple.com',\n",
    "#                          'anickless@codingtemple.com'],\n",
    "#         'name': 'Spain',\n",
    "#         'startDate': '2017-05-03'},\n",
    "#     {   'attendeeCount': 3,\n",
    "#         'attendees': [   'ltoepperwein@codingtemple.com',\n",
    "#                          'olavine@codingtemple.com',\n",
    "#                          'ksinitiere@codingtemple.com'],\n",
    "#         'name': 'Mexico',\n",
    "#         'startDate': '2017-05-03'},\n",
    "#     {   'attendeeCount': 3,\n",
    "#         'attendees': [   'abending@codingtemple.com',\n",
    "#                          'agewant@codingtemple.com',\n",
    "#                          'mboyarski@codingtemple.com'],\n",
    "#         'name': 'Canada',\n",
    "#         'startDate': '2017-07-02'},\n",
    "#     {   'attendeeCount': None,\n",
    "#         'attendees': [],\n",
    "#         'name': 'Singapore',\n",
    "#         'startDate': '2017-06-15'},\n",
    "#     {   'attendeeCount': None,\n",
    "#         'attendees': [],\n",
    "#         'name': 'Japan',\n",
    "#         'startDate': '2017-06-27'},\n",
    "#     {   'attendeeCount': 16,\n",
    "#         'attendees': [   'arosentrater@codingtemple.com',\n",
    "#                          'jgoettsche@codingtemple.com',\n",
    "#                          'nbehal@codingtemple.com',\n",
    "#                          'bkilcher@codingtemple.com',\n",
    "#                          'ostutler@codingtemple.com',\n",
    "#                          'emaohu@codingtemple.com',\n",
    "#                          'jbattistoni@codingtemple.com',\n",
    "#                          'ccoryea@codingtemple.com',\n",
    "#                          'gcintron@codingtemple.com',\n",
    "#                          'scorlett@codingtemple.com',\n",
    "#                          'dallocca@codingtemple.com',\n",
    "#                          'dneedler@codingtemple.com',\n",
    "#                          'lsachez@codingtemple.com',\n",
    "#                          'sszabo@codingtemple.com',\n",
    "#                          'smaleck@codingtemple.com',\n",
    "#                          'jholtrop@codingtemple.com'],\n",
    "#         'name': 'United Kingdom',\n",
    "#         'startDate': '2017-06-05'},\n",
    "#     {   'attendeeCount': 5,\n",
    "#         'attendees': [   'bdurke@codingtemple.com',\n",
    "#                          'jtopp@codingtemple.com',\n",
    "#                          'tpinela@codingtemple.com',\n",
    "#                          'jdefore@codingtemple.com',\n",
    "#                          'jmacareno@codingtemple.com'],\n",
    "#         'name': 'France',\n",
    "#         'startDate': '2017-06-18'}]"
   ]
  },
  {
   "cell_type": "markdown",
   "metadata": {},
   "source": [
    "For each partner, you need to categorize them according to the country in which they must attend the meeting. Find a way to determine which availability dates work best for everyone in EACH country. If a date doesn't work for a specific partner, they simply will not be able to attend the meeting. \n",
    "\n",
    "<strong>The kicker</strong>: this meeting will last a total of two days. Because of this, you must find a RANGE of two dates that work best for everyone. For whichever two days work the best, only display the first date everyone can start.\n",
    "\n",
    "<strong>When you've finished, send a POST request to the same API (Google how to do this!!!). If you get a server response code of 200, you were successful in building your solution. Otherwise, hit the drawing board and try again!</strong>"
   ]
  }
 ],
 "metadata": {
  "kernelspec": {
   "display_name": "Python 3",
   "language": "python",
   "name": "python3"
  },
  "language_info": {
   "codemirror_mode": {
    "name": "ipython",
    "version": 3
   },
   "file_extension": ".py",
   "mimetype": "text/x-python",
   "name": "python",
   "nbconvert_exporter": "python",
   "pygments_lexer": "ipython3",
   "version": "3.9.2"
  }
 },
 "nbformat": 4,
 "nbformat_minor": 4
}
